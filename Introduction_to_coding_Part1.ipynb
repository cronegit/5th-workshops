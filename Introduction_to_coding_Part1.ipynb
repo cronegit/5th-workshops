{
  "nbformat": 4,
  "nbformat_minor": 0,
  "metadata": {
    "kernelspec": {
      "display_name": "Python 2",
      "language": "python",
      "name": "python2"
    },
    "language_info": {
      "codemirror_mode": {
        "name": "ipython",
        "version": 2
      },
      "file_extension": ".py",
      "mimetype": "text/x-python",
      "name": "python",
      "nbconvert_exporter": "python",
      "pygments_lexer": "ipython2",
      "version": "2.7.13"
    },
    "colab": {
      "name": "Introduction-to-coding-Part1.ipynb",
      "provenance": [],
      "include_colab_link": true
    }
  },
  "cells": [
    {
      "cell_type": "markdown",
      "metadata": {
        "id": "view-in-github",
        "colab_type": "text"
      },
      "source": [
        "<a href=\"https://colab.research.google.com/github/cronegit/5th-workshops/blob/master/Introduction_to_coding_Part1.ipynb\" target=\"_parent\"><img src=\"https://colab.research.google.com/assets/colab-badge.svg\" alt=\"Open In Colab\"/></a>"
      ]
    },
    {
      "cell_type": "code",
      "metadata": {
        "id": "8YOCEsF2R-Nz",
        "colab_type": "code",
        "colab": {}
      },
      "source": [
        "# Revisión de elementos básicos en Python"
      ],
      "execution_count": 0,
      "outputs": []
    },
    {
      "cell_type": "code",
      "metadata": {
        "id": "pi0ccn59R-ON",
        "colab_type": "code",
        "colab": {}
      },
      "source": [
        "# Salida de datos\n",
        "print \"Bienvenido a CRoNe 2020\""
      ],
      "execution_count": 0,
      "outputs": []
    },
    {
      "cell_type": "code",
      "metadata": {
        "id": "9FUKcbYyR-Oj",
        "colab_type": "code",
        "colab": {}
      },
      "source": [
        "# Tipos de datos\n",
        "x = 2019\n",
        "y = 2020.60\n",
        "z = \"2021\"\n",
        "print \"x es\", type(x),\"y vale\", x\n",
        "print \"y es\", type(y), \"y vale\", y\n",
        "print \"z es\", type(z), \"y vale\", z"
      ],
      "execution_count": 0,
      "outputs": []
    },
    {
      "cell_type": "code",
      "metadata": {
        "id": "TdCJpYs-R-Ox",
        "colab_type": "code",
        "colab": {}
      },
      "source": [
        "# Conversión entre tipos de datos\n",
        "print \"Vine a CRoNe\", int(y), \"y no puedo esperar a la versión\", int(round(y))"
      ],
      "execution_count": 0,
      "outputs": []
    },
    {
      "cell_type": "code",
      "metadata": {
        "id": "1tq8uBJhR-O-",
        "colab_type": "code",
        "colab": {}
      },
      "source": [
        "# Entrada de datos\n",
        "nombre = raw_input(\"¿Cómo te llamas?: \")\n",
        "edad = int(raw_input(\"¿Cuántos años tienes?: \"))\n",
        "estatura = float(raw_input(\"¿Cuánto mides?: \"))"
      ],
      "execution_count": 0,
      "outputs": []
    },
    {
      "cell_type": "code",
      "metadata": {
        "id": "y-hZMkF1R-PR",
        "colab_type": "code",
        "colab": {}
      },
      "source": [
        "# Operaciones aritméticas\n",
        "x = 1\n",
        "print x + 0\n",
        "print x - 1\n",
        "print x * 2\n",
        "print x ** 2 "
      ],
      "execution_count": 0,
      "outputs": []
    },
    {
      "cell_type": "code",
      "metadata": {
        "id": "2KhgPK0ER-Pc",
        "colab_type": "code",
        "colab": {}
      },
      "source": [
        "# Operaciones aritméticas\n",
        "x += 1\n",
        "print x\n",
        "x -= 1\n",
        "print x\n",
        "x *= 2\n",
        "print x\n",
        "x /= 2\n",
        "print x"
      ],
      "execution_count": 0,
      "outputs": []
    },
    {
      "cell_type": "code",
      "metadata": {
        "id": "yZ0FyRWKR-Po",
        "colab_type": "code",
        "colab": {}
      },
      "source": [
        "# Lógica booleana\n",
        "v = True\n",
        "print \"v es\", type(v), \"con valor\", v, \"y su valor negado es\", not v"
      ],
      "execution_count": 0,
      "outputs": []
    },
    {
      "cell_type": "code",
      "metadata": {
        "id": "5gOd9_JpR-P1",
        "colab_type": "code",
        "colab": {}
      },
      "source": [
        "x = 4\n",
        "print \"¿ x es divisible por 2 y por 3 ?: \", x % 2 == 0 and x % 3 == 0\n",
        "print \"¿ x es divisible por 2 o por 3 ?: \", x % 2 == 0 or x % 3 == 0"
      ],
      "execution_count": 0,
      "outputs": []
    },
    {
      "cell_type": "code",
      "metadata": {
        "id": "9W2A-9ujR-QB",
        "colab_type": "code",
        "colab": {}
      },
      "source": [
        "# Operaciones en strings\n",
        "a = 2020\n",
        "print \"a tiene\", len(str(a)), \"digitos\""
      ],
      "execution_count": 0,
      "outputs": []
    },
    {
      "cell_type": "code",
      "metadata": {
        "id": "61-y0KYdR-QM",
        "colab_type": "code",
        "colab": {}
      },
      "source": [
        "# Operaciones en strings\n",
        "n = \"CRoNe\"\n",
        "evento = n + \" \" + str(a)\n",
        "print evento, \"se ha robado la atención del\", a"
      ],
      "execution_count": 0,
      "outputs": []
    },
    {
      "cell_type": "code",
      "metadata": {
        "id": "ipOXJxHDR-Qa",
        "colab_type": "code",
        "colab": {}
      },
      "source": [
        "# Operaciones en strings\n",
        "msje = \"%s %d\" % (n, a+1)\n",
        "print \"Todo apunta a que\", msje, \"será aún mejor\""
      ],
      "execution_count": 0,
      "outputs": []
    },
    {
      "cell_type": "code",
      "metadata": {
        "id": "ddBPW3pHR-Qi",
        "colab_type": "code",
        "colab": {}
      },
      "source": [
        "# Listas\n",
        "# son equivalentes a un arreglo, con tamaño modificable y puede contener elementos de distinto tipo\n",
        "versiones = [2015, 2019, 2020.60]\n",
        "print \"La primera versión del congreso fue el\", versiones[0]\n",
        "print \"la versión actual es la\", int(versiones[-1])\n",
        "print \"y la próxima es el\", int(round(versiones[-1]))"
      ],
      "execution_count": 0,
      "outputs": []
    },
    {
      "cell_type": "code",
      "metadata": {
        "id": "Vu7PkGeZR-Qt",
        "colab_type": "code",
        "colab": {}
      },
      "source": [
        "# Listas\n",
        "lista = [2.1, 5, \"CRoNe\"]\n",
        "lista.append(\"Robotics Week\") # se agrega elemento al final de la lista\n",
        "print \"ahora lista tiene\", len(lista), \"elementos, y su contenido es\", lista"
      ],
      "execution_count": 0,
      "outputs": []
    },
    {
      "cell_type": "code",
      "metadata": {
        "id": "Ge1pDwZAR-Q7",
        "colab_type": "code",
        "colab": {}
      },
      "source": [
        "# Listas\n",
        "evento = lista.pop() # devuelve el último elemento y lo borra de lista original\n",
        "print \"ahora lista tiene\", len(lista), \"elementos, y su contenido es\", lista\n",
        "print \"No olvides que\", lista[2], \"es parte de\", evento"
      ],
      "execution_count": 0,
      "outputs": []
    },
    {
      "cell_type": "code",
      "metadata": {
        "id": "JslWiUCCR-RF",
        "colab_type": "code",
        "colab": {}
      },
      "source": [
        "# Listas\n",
        "n = 7\n",
        "numeros = range(n) # crea una lista de números desde 0 a n-1\n",
        "print \"la lista de numeros es\", numeros"
      ],
      "execution_count": 0,
      "outputs": []
    },
    {
      "cell_type": "code",
      "metadata": {
        "id": "B1yS05LsR-RN",
        "colab_type": "code",
        "colab": {}
      },
      "source": [
        "# Rebanado\n",
        "versiones = [2018, 2019, 2020]\n",
        "print \"Las últimas dos versiones han sido de los años\", versiones[1:3]"
      ],
      "execution_count": 0,
      "outputs": []
    },
    {
      "cell_type": "code",
      "metadata": {
        "id": "RZi13NagR-RV",
        "colab_type": "code",
        "colab": {}
      },
      "source": [
        "actividades = [\"Charlas\", \"Talleres\", \"Publicaciones\"]\n",
        "print \"CRoNe 2020 tiene:\"\n",
        "for actividad in actividades:\n",
        "    print actividad"
      ],
      "execution_count": 0,
      "outputs": []
    },
    {
      "cell_type": "code",
      "metadata": {
        "id": "G_0kXcdgR-Rd",
        "colab_type": "code",
        "colab": {}
      },
      "source": [
        "actividades = [\"Charlas\", \"Talleres\", \"Publicaciones\"]\n",
        "print \"CRoNe 2020 tiene:\"\n",
        "for numero, actividad in enumerate(actividades):\n",
        "    print \"#\", numero + 1, \":\", actividad"
      ],
      "execution_count": 0,
      "outputs": []
    },
    {
      "cell_type": "code",
      "metadata": {
        "id": "zzX6hYazR-Rl",
        "colab_type": "code",
        "colab": {}
      },
      "source": [
        "# Guardar en una lista los resultados de la operación con datos de otra lista\n",
        "numeros = range(5)\n",
        "cubos = []\n",
        "for n in numeros:\n",
        "    cubos.append(n ** 3)\n",
        "print cubos"
      ],
      "execution_count": 0,
      "outputs": []
    },
    {
      "cell_type": "code",
      "metadata": {
        "id": "qhSHky1uR-Rs",
        "colab_type": "code",
        "colab": {}
      },
      "source": [
        "# Esto mismo se puede hacer usando compresión de listas\n",
        "numeros = range(5)\n",
        "cubos = [n ** 3 for n in numeros]\n",
        "print cubos"
      ],
      "execution_count": 0,
      "outputs": []
    },
    {
      "cell_type": "code",
      "metadata": {
        "id": "e2vieJevR-R2",
        "colab_type": "code",
        "colab": {}
      },
      "source": [
        "# En compresión de listas también se pueden incluir condiciones\n",
        "numeros = range(5)\n",
        "cubos_pares = [n ** 2 for n in numeros if n % 2 == 0]\n",
        "print cubos_pares"
      ],
      "execution_count": 0,
      "outputs": []
    },
    {
      "cell_type": "code",
      "metadata": {
        "id": "liXCVFs_R-R_",
        "colab_type": "code",
        "colab": {}
      },
      "source": [
        "# Diccionarios\n",
        "siglas = {\"CRoNe\": \"Congreso de Robotica y Neurociencia\", \"CoR\": \"Competencia de Robotica\"}\n",
        "if \"CRoNe\" in siglas:\n",
        "    print \"CRoNe significa\", siglas[\"CRoNe\"]"
      ],
      "execution_count": 0,
      "outputs": []
    },
    {
      "cell_type": "code",
      "metadata": {
        "id": "FOHWPfOER-SH",
        "colab_type": "code",
        "colab": {}
      },
      "source": [
        "# Agregar elementos al diccionario\n",
        "siglas[\"IRE\"] = \"Interescolar de Robotica Educativa\"\n",
        "print siglas.get(\"PSU\", \"No hay\")\n",
        "print siglas.get(\"CRoNe\", \"No hay\")"
      ],
      "execution_count": 0,
      "outputs": []
    },
    {
      "cell_type": "code",
      "metadata": {
        "id": "608Yyb0AR-SR",
        "colab_type": "code",
        "colab": {}
      },
      "source": [
        "del siglas[\"CRoNe\"]\n",
        "print siglas.get(\"CRoNe\", \"No esta en el diccionario\")"
      ],
      "execution_count": 0,
      "outputs": []
    },
    {
      "cell_type": "code",
      "metadata": {
        "id": "6ouyQlWpR-Sb",
        "colab_type": "code",
        "colab": {}
      },
      "source": [
        "# Iterar sobre (las llaves de) un diccionario\n",
        "for actividad in siglas:\n",
        "    significado = siglas[actividad]\n",
        "    print actividad,\"significa\",siglas[actividad]"
      ],
      "execution_count": 0,
      "outputs": []
    },
    {
      "cell_type": "code",
      "metadata": {
        "id": "7lzzgpPPR-Sh",
        "colab_type": "code",
        "colab": {}
      },
      "source": [
        "# Iterar sobre (llaves y valores de) un dicccionario\n",
        "for actividad,significado in siglas.items():\n",
        "    print actividad,\"significa\",siglas[actividad]"
      ],
      "execution_count": 0,
      "outputs": []
    },
    {
      "cell_type": "code",
      "metadata": {
        "id": "ptTEmZFhR-Sn",
        "colab_type": "code",
        "colab": {}
      },
      "source": [
        "# Compresión de diccionarios\n",
        "numeros = range(5)\n",
        "cubos_pares = {n : n**3 for n in numeros if n%2 == 0}\n",
        "print cubos_pares"
      ],
      "execution_count": 0,
      "outputs": []
    },
    {
      "cell_type": "code",
      "metadata": {
        "id": "A4nmrOnyR-Ss",
        "colab_type": "code",
        "colab": {}
      },
      "source": [
        "# Tuplas\n",
        "# Es una colección (inmutable) de valores. A diferencia de las listas, las tuplas pueden ser llaves de diccionarios.\n",
        "\n",
        "d = {(n, n + 1): n for n in range(5)}\n",
        "t = (3, 4)\n",
        "print \"El diccionario es\",d\n",
        "print \"t es de tipo\", type(t)\n",
        "print \"el valor asociado a la llave\",t, \"es\", d[t]       \n",
        "print \"el valor asociado a la llave\",(1,2),\"es\",d[(1, 2)]\n",
        "\n"
      ],
      "execution_count": 0,
      "outputs": []
    },
    {
      "cell_type": "code",
      "metadata": {
        "id": "wx9yq-2OR-S2",
        "colab_type": "code",
        "colab": {}
      },
      "source": [
        "# Funciones\n",
        "def signo(x):\n",
        "    if x > 0:\n",
        "        return \"positivo\"\n",
        "    elif x == 0:\n",
        "        return \"cero\"\n",
        "    else:\n",
        "        return \"negativo\"\n",
        "\n",
        "for n in range(-1,3):\n",
        "    print signo(n)"
      ],
      "execution_count": 0,
      "outputs": []
    },
    {
      "cell_type": "code",
      "metadata": {
        "id": "-MXu7KoCR-S7",
        "colab_type": "code",
        "colab": {}
      },
      "source": [
        "# Función con parámetros inicializados por defecto\n",
        "def mostrar(mensaje, gritar = False):\n",
        "    if gritar:\n",
        "        print mensaje.upper()\n",
        "    else:\n",
        "        print mensaje\n",
        "\n",
        "mostrar(\"hola\")\n",
        "mostrar(\"hola\",True)"
      ],
      "execution_count": 0,
      "outputs": []
    },
    {
      "cell_type": "code",
      "metadata": {
        "id": "yPQBsB_XR-TC",
        "colab_type": "code",
        "colab": {}
      },
      "source": [
        "# Definición de una clase\n",
        "class comunicador:\n",
        "    def __init__(self,emisor):\n",
        "        self.nombre = emisor\n",
        "    def mostrar(self, mensaje, gritar = False):\n",
        "        print self.nombre,\"dice:\",\n",
        "        if gritar:\n",
        "            print mensaje.upper()\n",
        "        else:\n",
        "            print mensaje\n",
        "\n",
        "m = comunicador(\"Miguel\")\n",
        "m.mostrar(\"Hola\")\n",
        "m.mostrar(\"Hola\", True)"
      ],
      "execution_count": 0,
      "outputs": []
    },
    {
      "cell_type": "code",
      "metadata": {
        "id": "SZaSGTGoR-TK",
        "colab_type": "code",
        "colab": {}
      },
      "source": [
        "# Ejercicio\n",
        "# Defina la clase poligonos, cuyo constructor permita que un objeto creado tenga un diccionario con los\n",
        "# vértices del polígono respectivo y el número de vertice al que corresponda. Luego defina el método perimetro,\n",
        "# que entregue el perímetro de cierto polígono en base a sus vértices.\n",
        "\n",
        "class poligonos:\n",
        "    def __init__(self, diccionario):\n",
        "        self.vertices = # completar\n",
        "    def perimetro(self):\n",
        "        # completar\n",
        "        return p\n",
        "\n",
        "d = {1: [4,1], 2: [7,2], 3: [7,4], 4: [5,9]}\n",
        "rombo = poligonos(d)\n",
        "print rombo.perimetro()"
      ],
      "execution_count": 0,
      "outputs": []
    },
    {
      "cell_type": "code",
      "metadata": {
        "id": "5zKM43hXR-TR",
        "colab_type": "code",
        "colab": {}
      },
      "source": [
        "# Ejercicio (opcional)\n",
        "# ¿cómo cambiaría su desarrollo anterior, si supone que los vértices\n",
        "# se encuentran en una lista de tuplas, cuyos elementos están ubicados en orden?\n",
        "\n",
        "class poligonos:\n",
        "    def __init__(self, lista):\n",
        "        self.vertices = # completar\n",
        "    def perimetro(self):\n",
        "        # completar\n",
        "        return p\n",
        "\n",
        "d = [(4,1), (7,2), (7,4), (5,9)]\n",
        "rombo = poligonos(d)\n",
        "print rombo.perimetro()"
      ],
      "execution_count": 0,
      "outputs": []
    },
    {
      "cell_type": "code",
      "metadata": {
        "id": "scNrP4PTR-TY",
        "colab_type": "code",
        "colab": {}
      },
      "source": [
        ""
      ],
      "execution_count": 0,
      "outputs": []
    }
  ]
}