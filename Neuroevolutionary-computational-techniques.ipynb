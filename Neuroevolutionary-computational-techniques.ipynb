{
  "nbformat": 4,
  "nbformat_minor": 0,
  "metadata": {
    "kernelspec": {
      "display_name": "Python 3",
      "language": "python",
      "name": "python3"
    },
    "language_info": {
      "codemirror_mode": {
        "name": "ipython",
        "version": 3
      },
      "file_extension": ".py",
      "mimetype": "text/x-python",
      "name": "python",
      "nbconvert_exporter": "python",
      "pygments_lexer": "ipython3",
      "version": "3.7.3"
    },
    "colab": {
      "name": "NEAT_workshop.ipynb",
      "provenance": [],
      "collapsed_sections": [],
      "include_colab_link": true
    }
  },
  "cells": [
    {
      "cell_type": "markdown",
      "metadata": {
        "id": "view-in-github",
        "colab_type": "text"
      },
      "source": [
        "<a href=\"https://colab.research.google.com/github/cronegit/5th-workshops/blob/master/Neuroevolutionary-computational-techniques.ipynb\" target=\"_parent\"><img src=\"https://colab.research.google.com/assets/colab-badge.svg\" alt=\"Open In Colab\"/></a>"
      ]
    },
    {
      "cell_type": "code",
      "metadata": {
        "id": "qpNHI9IYGCzm",
        "colab_type": "code",
        "outputId": "b1d2cad0-6f5b-43d8-9ee6-aabd51118d89",
        "colab": {
          "base_uri": "https://localhost:8080/",
          "height": 216
        }
      },
      "source": [
        "!pip install py-hyperneat"
      ],
      "execution_count": 0,
      "outputs": [
        {
          "output_type": "stream",
          "text": [
            "Requirement already satisfied: py-hyperneat in /usr/local/lib/python3.6/dist-packages (0.0.1)\n",
            "Requirement already satisfied: numpy in /usr/local/lib/python3.6/dist-packages (from py-hyperneat) (1.17.5)\n",
            "Requirement already satisfied: matplotlib in /usr/local/lib/python3.6/dist-packages (from py-hyperneat) (3.1.3)\n",
            "Requirement already satisfied: dataclasses in /usr/local/lib/python3.6/dist-packages (from py-hyperneat) (0.7)\n",
            "Requirement already satisfied: kiwisolver>=1.0.1 in /usr/local/lib/python3.6/dist-packages (from matplotlib->py-hyperneat) (1.1.0)\n",
            "Requirement already satisfied: pyparsing!=2.0.4,!=2.1.2,!=2.1.6,>=2.0.1 in /usr/local/lib/python3.6/dist-packages (from matplotlib->py-hyperneat) (2.4.6)\n",
            "Requirement already satisfied: python-dateutil>=2.1 in /usr/local/lib/python3.6/dist-packages (from matplotlib->py-hyperneat) (2.6.1)\n",
            "Requirement already satisfied: cycler>=0.10 in /usr/local/lib/python3.6/dist-packages (from matplotlib->py-hyperneat) (0.10.0)\n",
            "Requirement already satisfied: setuptools in /usr/local/lib/python3.6/dist-packages (from kiwisolver>=1.0.1->matplotlib->py-hyperneat) (45.1.0)\n",
            "Requirement already satisfied: six>=1.5 in /usr/local/lib/python3.6/dist-packages (from python-dateutil>=2.1->matplotlib->py-hyperneat) (1.12.0)\n"
          ],
          "name": "stdout"
        }
      ]
    },
    {
      "cell_type": "markdown",
      "metadata": {
        "id": "QPSlEOpfk2EG",
        "colab_type": "text"
      },
      "source": [
        "# NEAT Genotype and phenotype expression\n",
        "![alt text](https://i.imgur.com/Xtlzo8G.png)\n",
        "\n",
        "NEAT key techniques:\n",
        "*   Innovation markers\n",
        "*   Speciation\n",
        "*   Augmenting topologies\n",
        "\n",
        "\n",
        "\n"
      ]
    },
    {
      "cell_type": "code",
      "metadata": {
        "id": "QG5TilbxGCzz",
        "colab_type": "code",
        "colab": {}
      },
      "source": [
        "from neat.population import Population\n",
        "from neat.neural_network import NeuralNetwork\n",
        "from neat.genome import Genome, Phenotype\n",
        "from neat.genes import NodeGene, ConnectionGene, NodeType\n",
        "from neat.neat import Neat, TrainTask\n",
        "from neat.activation_functions import ActivationFunction\n",
        "\n",
        "import numpy as np\n",
        "import matplotlib.pyplot as plt\n",
        "import math"
      ],
      "execution_count": 0,
      "outputs": []
    },
    {
      "cell_type": "code",
      "metadata": {
        "id": "QczsRDIkGCz-",
        "colab_type": "code",
        "colab": {}
      },
      "source": [
        "# Select tanh function to initialize activations\n",
        "tanh_function = ActivationFunction().functions['TANH']\n",
        "\n",
        "# 10 layers\n",
        "num_layers = 10\n",
        "\n",
        "# Node genes\n",
        "input_node_0 = NodeGene(0, NodeType.INPUT, tanh_function, 0)\n",
        "input_node_1 = NodeGene(1, NodeType.INPUT, tanh_function, 0)\n",
        "output_node = NodeGene(2, NodeType.OUTPUT, tanh_function, num_layers - 1)\n",
        "\n",
        "nodes = [input_node_0, input_node_1, output_node]"
      ],
      "execution_count": 0,
      "outputs": []
    },
    {
      "cell_type": "code",
      "metadata": {
        "id": "HvAGpFGrGC0E",
        "colab_type": "code",
        "colab": {}
      },
      "source": [
        "# Connection genes: innovation, in node, out node, weight, enable?, in node layer, out node layer\n",
        "connection_0 = ConnectionGene(0, input_node_0.gene_id, output_node.gene_id, 0.1, True, input_node_0.layer, output_node.layer)\n",
        "connection_1 = ConnectionGene(1, input_node_1.gene_id, output_node.gene_id, 0.2, True, input_node_1.layer, output_node.layer)\n",
        "\n",
        "connections = [connection_0, connection_1]"
      ],
      "execution_count": 0,
      "outputs": []
    },
    {
      "cell_type": "code",
      "metadata": {
        "id": "gbKOGfeeGC0K",
        "colab_type": "code",
        "colab": {}
      },
      "source": [
        "# Create seed genome, specify connections weight range\n",
        "weights_range = (-8.0, 8.0)\n",
        "genome = Genome(weights_range)\n",
        "\n",
        "# Assemble genome from nodes and connections info. \n",
        "# Need to specify the type of phenotype to construct and number of layers\n",
        "genome.create_genome_from_genes(nodes, connections, Phenotype.LAYERED_NETWORK, num_layers)"
      ],
      "execution_count": 0,
      "outputs": []
    },
    {
      "cell_type": "code",
      "metadata": {
        "id": "FVZQgEVRGC0R",
        "colab_type": "code",
        "outputId": "6daca8f8-52dd-4501-a473-2511a332b9e4",
        "colab": {
          "base_uri": "https://localhost:8080/",
          "height": 36
        }
      },
      "source": [
        "# Create new population\n",
        "pop = Population()\n",
        "\n",
        "# Set hyperparameters of evolution\n",
        "pop.params.population_max = 100\n",
        "pop.params.distance_coeff_1 = 0.6\n",
        "pop.params.distance_coeff_2 = 0.6\n",
        "pop.params.distance_coeff_3 = 1.0\n",
        "pop.params.distance_threshold = 9.0 #Adjusted while training\n",
        "pop.params.small_genome_coeff = 8\n",
        "pop.params.no_crossover_offspring = 0.85\n",
        "\n",
        "pop.params.survival_selection = True\n",
        "pop.params.allow_clones = True\n",
        "pop.params.survival_threshold = 0.4\n",
        "pop.params.elite_offspring_param = 0.1\n",
        "\n",
        "pop.params.min_species = 4\n",
        "pop.params.max_species = 10\n",
        "\n",
        "# Set probabilities of interspecies mating and mutations\n",
        "# Interspecies probability of mate\n",
        "pop.prob.interspecies_mating = 0.2\n",
        "\n",
        "# Small organisms mutation probabilities\n",
        "pop.prob.sp_new_node = 0.001\n",
        "pop.prob.sp_new_connection = 0.002\n",
        "\n",
        "# Large organisms mutation probabilities\n",
        "pop.prob.lp_new_node = 0.0003\n",
        "pop.prob.lp_new_connection = 0.0004\n",
        "\n",
        "# Mutation weights and activation probabilities\n",
        "pop.prob.mutation_weight = 0.1\n",
        "pop.prob.mutate_activation = 0.05\n",
        "\n",
        "# Create population of organisms from the seed genome\n",
        "pop.start_population(genome)\n",
        "print(len(pop.organisms))"
      ],
      "execution_count": 0,
      "outputs": [
        {
          "output_type": "stream",
          "text": [
            "100\n"
          ],
          "name": "stdout"
        }
      ]
    },
    {
      "cell_type": "code",
      "metadata": {
        "id": "cXoifckXGC0W",
        "colab_type": "code",
        "colab": {}
      },
      "source": [
        "# Define a fitness function.\n",
        "# Current function intend to solve XOR problem, given the four possible inputs\n",
        "def fitness(input_data, net):\n",
        "    error = 0.0\n",
        "    outputs = []\n",
        "\n",
        "    logic = input_data[0]\n",
        "    net.reset_values()\n",
        "    net.input(logic)\n",
        "    net.activate_net()\n",
        "    error += math.fabs(net.output()[0])\n",
        "    outputs.append(net.output()[0])\n",
        "\n",
        "    logic = input_data[1]\n",
        "    net.reset_values()\n",
        "    net.input(logic)\n",
        "    net.activate_net()\n",
        "    error += math.fabs(1 - net.output()[0])\n",
        "    outputs.append(net.output()[0])\n",
        "\n",
        "    logic = input_data[2]\n",
        "    net.reset_values()\n",
        "    net.input(logic)\n",
        "    net.activate_net()\n",
        "    error += math.fabs(1 - net.output()[0])\n",
        "    outputs.append(net.output()[0])\n",
        "\n",
        "    logic = input_data[3]\n",
        "    net.input(logic)\n",
        "    net.activate_net()\n",
        "    error += math.fabs(net.output()[0])\n",
        "    outputs.append(net.output()[0])\n",
        "\n",
        "    return math.pow(4 - error, 2)"
      ],
      "execution_count": 0,
      "outputs": []
    },
    {
      "cell_type": "code",
      "metadata": {
        "id": "_3G-gjIUGC0b",
        "colab_type": "code",
        "colab": {}
      },
      "source": [
        "# Create an instance of Neat algorithm, 100 generations\n",
        "num_generations = 100\n",
        "evolution = Neat(fitness_eval=fitness, train_task=TrainTask.PREDICTION, max_generation=num_generations)\n",
        "\n",
        "# Set population to evolutionary algorithm. Limit activation functions to tanh for this example\n",
        "evolution.pop = pop\n",
        "evolution.pop.activation_set.use_only_tanh()"
      ],
      "execution_count": 0,
      "outputs": []
    },
    {
      "cell_type": "code",
      "metadata": {
        "scrolled": true,
        "id": "9GOKyYwtGC0h",
        "colab_type": "code",
        "colab": {}
      },
      "source": [
        "# Define input sets to fit with fitness function\n",
        "xor_eval = [[0, 0], [0, 1], [1, 0], [1, 1]]\n",
        "\n",
        "# Run training\n",
        "evolution.set_multi_input(xor_eval)"
      ],
      "execution_count": 0,
      "outputs": []
    },
    {
      "cell_type": "code",
      "metadata": {
        "id": "iBDiiy9x9AeA",
        "colab_type": "code",
        "colab": {}
      },
      "source": [
        "def epoch(algorithm, print_stats=False):\n",
        "\t\talgorithm.pop.sort_organisms()\n",
        "\t\talgorithm.historical_avg_fitness.append(algorithm.avg_fitness)\n",
        "\t\talgorithm.historical_best_fitness.append(algorithm.best_epoch_fitness)\n",
        "\n",
        "\t\talgorithm.pop.adjust_speciate_threshold()\n",
        "\t\talgorithm.pop.compute_offspring()\n",
        "\n",
        "\t\talgorithm.pop.reproduce()\n",
        "\t\talgorithm.pop.speciate()\n",
        "\n",
        "\t\talgorithm.pop.remove_empty_species()\n",
        "\t\t\n",
        "\t\tif print_stats == True:\n",
        "\t\t\tprint('Generation #{:d}: species = {:d}, champion_fitness = {:f}, avg_generation_fitness = {:f}'.format(algorithm.current_generation, len(algorithm.pop.species), algorithm.pop.champion_fitness, algorithm.avg_fitness))\n",
        "\n",
        "\t\talgorithm.current_generation += 1"
      ],
      "execution_count": 0,
      "outputs": []
    },
    {
      "cell_type": "code",
      "metadata": {
        "id": "BymPmPGj9Y18",
        "colab_type": "code",
        "outputId": "86fdfefc-ebcf-4075-c5ad-828569ff382c",
        "colab": {
          "base_uri": "https://localhost:8080/",
          "height": 1000
        }
      },
      "source": [
        "while evolution.current_generation < evolution.max_generation:\n",
        "\t\t\tevolution.evaluate_population()    \n",
        "\t\t\tepoch(evolution, print_stats=True)"
      ],
      "execution_count": 0,
      "outputs": [
        {
          "output_type": "stream",
          "text": [
            "Generation #0: species = 1, champion_fitness = 6.296987, avg_generation_fitness = 2.371687\n",
            "Generation #1: species = 1, champion_fitness = 9.168064, avg_generation_fitness = 4.002230\n",
            "Generation #2: species = 1, champion_fitness = 9.168064, avg_generation_fitness = 4.951837\n",
            "Generation #3: species = 1, champion_fitness = 10.958737, avg_generation_fitness = 5.370078\n",
            "Generation #4: species = 1, champion_fitness = 10.958737, avg_generation_fitness = 5.961591\n",
            "Generation #5: species = 1, champion_fitness = 10.958737, avg_generation_fitness = 5.452408\n",
            "Generation #6: species = 1, champion_fitness = 12.060577, avg_generation_fitness = 6.048109\n",
            "Generation #7: species = 1, champion_fitness = 13.212406, avg_generation_fitness = 7.005598\n",
            "Generation #8: species = 1, champion_fitness = 13.279851, avg_generation_fitness = 7.666515\n",
            "Generation #9: species = 1, champion_fitness = 13.279851, avg_generation_fitness = 6.961963\n",
            "Generation #10: species = 1, champion_fitness = 13.279851, avg_generation_fitness = 7.279524\n",
            "Generation #11: species = 1, champion_fitness = 13.279851, avg_generation_fitness = 7.041262\n",
            "Generation #12: species = 1, champion_fitness = 14.030823, avg_generation_fitness = 8.028380\n",
            "Generation #13: species = 1, champion_fitness = 14.030823, avg_generation_fitness = 7.233079\n",
            "Generation #14: species = 1, champion_fitness = 14.030823, avg_generation_fitness = 8.431512\n",
            "Generation #15: species = 1, champion_fitness = 14.030823, avg_generation_fitness = 7.341126\n",
            "Generation #16: species = 1, champion_fitness = 14.735784, avg_generation_fitness = 8.023498\n",
            "Generation #17: species = 1, champion_fitness = 14.735784, avg_generation_fitness = 8.514119\n",
            "Generation #18: species = 1, champion_fitness = 14.735784, avg_generation_fitness = 7.952174\n",
            "Generation #19: species = 1, champion_fitness = 14.735784, avg_generation_fitness = 7.662116\n",
            "Generation #20: species = 1, champion_fitness = 14.735784, avg_generation_fitness = 8.439628\n",
            "Generation #21: species = 1, champion_fitness = 14.754416, avg_generation_fitness = 8.127669\n",
            "Generation #22: species = 1, champion_fitness = 14.754416, avg_generation_fitness = 8.484925\n",
            "Generation #23: species = 1, champion_fitness = 14.754416, avg_generation_fitness = 7.937489\n",
            "Generation #24: species = 1, champion_fitness = 14.754416, avg_generation_fitness = 8.666013\n",
            "Generation #25: species = 1, champion_fitness = 14.754416, avg_generation_fitness = 8.256606\n",
            "Generation #26: species = 1, champion_fitness = 14.754416, avg_generation_fitness = 8.206129\n",
            "Generation #27: species = 1, champion_fitness = 14.754416, avg_generation_fitness = 8.449165\n",
            "Generation #28: species = 1, champion_fitness = 14.754416, avg_generation_fitness = 7.694528\n",
            "Generation #29: species = 1, champion_fitness = 14.754416, avg_generation_fitness = 7.730474\n",
            "Generation #30: species = 1, champion_fitness = 14.754416, avg_generation_fitness = 8.385006\n",
            "Generation #31: species = 1, champion_fitness = 15.157310, avg_generation_fitness = 8.303407\n",
            "Generation #32: species = 1, champion_fitness = 15.157310, avg_generation_fitness = 7.725286\n",
            "Generation #33: species = 12, champion_fitness = 15.848138, avg_generation_fitness = 7.435140\n",
            "Generation #34: species = 4, champion_fitness = 15.848138, avg_generation_fitness = 7.992626\n",
            "Generation #35: species = 5, champion_fitness = 15.848138, avg_generation_fitness = 7.864454\n",
            "Generation #36: species = 5, champion_fitness = 15.848138, avg_generation_fitness = 7.907883\n",
            "Generation #37: species = 5, champion_fitness = 15.848138, avg_generation_fitness = 8.137575\n",
            "Generation #38: species = 7, champion_fitness = 15.848138, avg_generation_fitness = 7.869552\n",
            "Generation #39: species = 7, champion_fitness = 15.848138, avg_generation_fitness = 7.692047\n",
            "Generation #40: species = 7, champion_fitness = 15.848138, avg_generation_fitness = 7.322939\n",
            "Generation #41: species = 9, champion_fitness = 15.848138, avg_generation_fitness = 7.267229\n",
            "Generation #42: species = 9, champion_fitness = 15.848138, avg_generation_fitness = 7.464415\n",
            "Generation #43: species = 9, champion_fitness = 15.848138, avg_generation_fitness = 6.926877\n",
            "Generation #44: species = 9, champion_fitness = 15.848138, avg_generation_fitness = 6.836754\n",
            "Generation #45: species = 10, champion_fitness = 15.848138, avg_generation_fitness = 7.305594\n",
            "Generation #46: species = 11, champion_fitness = 15.848138, avg_generation_fitness = 7.450262\n",
            "Generation #47: species = 4, champion_fitness = 15.848138, avg_generation_fitness = 7.623969\n",
            "Generation #48: species = 5, champion_fitness = 15.848138, avg_generation_fitness = 7.792657\n",
            "Generation #49: species = 5, champion_fitness = 15.848138, avg_generation_fitness = 8.280354\n",
            "Generation #50: species = 5, champion_fitness = 15.848138, avg_generation_fitness = 8.522343\n",
            "Generation #51: species = 5, champion_fitness = 15.848138, avg_generation_fitness = 8.714576\n",
            "Generation #52: species = 5, champion_fitness = 15.848138, avg_generation_fitness = 7.192738\n",
            "Generation #53: species = 5, champion_fitness = 15.848138, avg_generation_fitness = 7.892398\n",
            "Generation #54: species = 5, champion_fitness = 15.848138, avg_generation_fitness = 8.251195\n",
            "Generation #55: species = 5, champion_fitness = 15.848138, avg_generation_fitness = 7.180885\n",
            "Generation #56: species = 6, champion_fitness = 15.848138, avg_generation_fitness = 8.182072\n",
            "Generation #57: species = 6, champion_fitness = 15.848138, avg_generation_fitness = 8.515807\n",
            "Generation #58: species = 6, champion_fitness = 15.848138, avg_generation_fitness = 8.088695\n",
            "Generation #59: species = 6, champion_fitness = 15.848138, avg_generation_fitness = 8.122766\n",
            "Generation #60: species = 6, champion_fitness = 15.848138, avg_generation_fitness = 7.493866\n",
            "Generation #61: species = 6, champion_fitness = 15.848138, avg_generation_fitness = 7.914012\n",
            "Generation #62: species = 6, champion_fitness = 15.848138, avg_generation_fitness = 8.041222\n",
            "Generation #63: species = 6, champion_fitness = 15.848138, avg_generation_fitness = 8.078360\n",
            "Generation #64: species = 6, champion_fitness = 15.848138, avg_generation_fitness = 8.013316\n",
            "Generation #65: species = 6, champion_fitness = 15.848138, avg_generation_fitness = 7.691936\n",
            "Generation #66: species = 6, champion_fitness = 15.848138, avg_generation_fitness = 8.365987\n",
            "Generation #67: species = 6, champion_fitness = 15.848138, avg_generation_fitness = 8.352398\n",
            "Generation #68: species = 6, champion_fitness = 15.848138, avg_generation_fitness = 8.193379\n",
            "Generation #69: species = 6, champion_fitness = 15.848138, avg_generation_fitness = 7.996359\n",
            "Generation #70: species = 6, champion_fitness = 15.848138, avg_generation_fitness = 8.365911\n",
            "Generation #71: species = 6, champion_fitness = 15.848138, avg_generation_fitness = 7.881625\n",
            "Generation #72: species = 6, champion_fitness = 15.848138, avg_generation_fitness = 8.053539\n",
            "Generation #73: species = 6, champion_fitness = 15.848138, avg_generation_fitness = 8.298958\n",
            "Generation #74: species = 6, champion_fitness = 15.848138, avg_generation_fitness = 8.324422\n",
            "Generation #75: species = 6, champion_fitness = 15.848138, avg_generation_fitness = 8.050208\n",
            "Generation #76: species = 6, champion_fitness = 15.848138, avg_generation_fitness = 7.861350\n",
            "Generation #77: species = 6, champion_fitness = 15.848138, avg_generation_fitness = 8.067047\n",
            "Generation #78: species = 6, champion_fitness = 15.848138, avg_generation_fitness = 8.028651\n",
            "Generation #79: species = 6, champion_fitness = 15.848138, avg_generation_fitness = 8.655472\n",
            "Generation #80: species = 6, champion_fitness = 15.848138, avg_generation_fitness = 7.860747\n",
            "Generation #81: species = 6, champion_fitness = 15.848138, avg_generation_fitness = 7.860613\n",
            "Generation #82: species = 6, champion_fitness = 15.848138, avg_generation_fitness = 7.913363\n",
            "Generation #83: species = 6, champion_fitness = 15.848138, avg_generation_fitness = 8.193015\n",
            "Generation #84: species = 6, champion_fitness = 15.848138, avg_generation_fitness = 8.154744\n",
            "Generation #85: species = 6, champion_fitness = 15.848138, avg_generation_fitness = 8.528603\n",
            "Generation #86: species = 6, champion_fitness = 15.848138, avg_generation_fitness = 8.003652\n",
            "Generation #87: species = 6, champion_fitness = 15.848138, avg_generation_fitness = 8.091335\n",
            "Generation #88: species = 6, champion_fitness = 15.848138, avg_generation_fitness = 8.245229\n",
            "Generation #89: species = 6, champion_fitness = 15.890835, avg_generation_fitness = 8.312077\n",
            "Generation #90: species = 6, champion_fitness = 15.890835, avg_generation_fitness = 7.924391\n",
            "Generation #91: species = 6, champion_fitness = 15.890835, avg_generation_fitness = 7.980994\n",
            "Generation #92: species = 6, champion_fitness = 15.890835, avg_generation_fitness = 7.731219\n",
            "Generation #93: species = 6, champion_fitness = 15.890835, avg_generation_fitness = 7.878953\n",
            "Generation #94: species = 6, champion_fitness = 15.890835, avg_generation_fitness = 8.209899\n",
            "Generation #95: species = 6, champion_fitness = 15.890835, avg_generation_fitness = 8.596904\n",
            "Generation #96: species = 6, champion_fitness = 15.890835, avg_generation_fitness = 8.063780\n",
            "Generation #97: species = 6, champion_fitness = 15.890835, avg_generation_fitness = 7.942312\n",
            "Generation #98: species = 6, champion_fitness = 15.890835, avg_generation_fitness = 8.038522\n",
            "Generation #99: species = 6, champion_fitness = 15.890835, avg_generation_fitness = 8.189934\n"
          ],
          "name": "stdout"
        }
      ]
    },
    {
      "cell_type": "code",
      "metadata": {
        "id": "r0mdxh778irM",
        "colab_type": "code",
        "outputId": "c041b77f-2d15-409f-a5b3-aeec7eb427c7",
        "colab": {
          "base_uri": "https://localhost:8080/",
          "height": 110
        }
      },
      "source": [
        "evolution.pop.restart_population()\n",
        "avg, best = evolution.run_multiple_trainings(5)"
      ],
      "execution_count": 0,
      "outputs": [
        {
          "output_type": "stream",
          "text": [
            "Iteration #0: species = 49, champion_fitness = 0.000000, avg_generation_fitness = 7.611596\n",
            "Iteration #1: species = 4, champion_fitness = 15.989438, avg_generation_fitness = 8.589331\n",
            "Iteration #2: species = 5, champion_fitness = 15.729434, avg_generation_fitness = 8.859352\n",
            "Iteration #3: species = 8, champion_fitness = 15.538571, avg_generation_fitness = 7.525859\n",
            "Iteration #4: species = 8, champion_fitness = 15.861123, avg_generation_fitness = 7.642757\n"
          ],
          "name": "stdout"
        }
      ]
    },
    {
      "cell_type": "code",
      "metadata": {
        "id": "tTWkFSXwGC0l",
        "colab_type": "code",
        "outputId": "074197cf-8b6e-424d-a36f-2605dfad5340",
        "colab": {
          "base_uri": "https://localhost:8080/",
          "height": 392
        }
      },
      "source": [
        "generations = np.linspace(0, 99, 100)\n",
        "\n",
        "fig, ax = plt.subplots(figsize=(10, 6))\n",
        "\n",
        "ax.plot(generations, avg, label='Average fitness')\n",
        "ax.plot(generations, best, label='Best fitness') # primer gráfico (primera sub-figura)\n",
        "ax.set_ylabel('Fitness')\n",
        "ax.set_xlabel('Generations')\n",
        "ax.set_ylim(0, 18)\n",
        "leg = ax.legend();"
      ],
      "execution_count": 0,
      "outputs": [
        {
          "output_type": "display_data",
          "data": {
            "image/png": "[encoded data removed]",
            "text/plain": [
              "<Figure size 720x432 with 1 Axes>"
            ]
          },
          "metadata": {
            "tags": []
          }
        }
      ]
    },
    {
      "cell_type": "code",
      "metadata": {
        "id": "WqhFrpZTGC0r",
        "colab_type": "code",
        "outputId": "df8555c6-3ffb-4c53-8ee8-8426aec3cce5",
        "colab": {
          "base_uri": "https://localhost:8080/",
          "height": 110
        }
      },
      "source": [
        "# Let's change activation functions set\n",
        "evolution.pop.activation_set = ActivationFunction()\n",
        "evolution.pop.activation_set.set_atemporal_set()\n",
        "evolution.pop.activation_set.unset_lin_group()\n",
        "\n",
        "# Run training\n",
        "evolution.pop.restart_population()\n",
        "avg, best = evolution.run_multiple_trainings(5)"
      ],
      "execution_count": 0,
      "outputs": [
        {
          "output_type": "stream",
          "text": [
            "Iteration #0: species = 7, champion_fitness = 16.000000, avg_generation_fitness = 7.860550\n",
            "Iteration #1: species = 5, champion_fitness = 16.000000, avg_generation_fitness = 9.282526\n",
            "Iteration #2: species = 6, champion_fitness = 16.000000, avg_generation_fitness = 7.913673\n",
            "Iteration #3: species = 5, champion_fitness = 16.000000, avg_generation_fitness = 9.432976\n",
            "Iteration #4: species = 4, champion_fitness = 16.000000, avg_generation_fitness = 8.759418\n"
          ],
          "name": "stdout"
        }
      ]
    },
    {
      "cell_type": "code",
      "metadata": {
        "id": "FLWhizzvGC0x",
        "colab_type": "code",
        "outputId": "f6774084-ac40-408c-a180-a21f4c34df60",
        "colab": {
          "base_uri": "https://localhost:8080/",
          "height": 392
        }
      },
      "source": [
        "generations = np.linspace(0, 99, 100)\n",
        "\n",
        "fig, ax = plt.subplots(figsize=(10, 6))\n",
        "\n",
        "ax.plot(generations, avg, label='Average fitness')\n",
        "ax.plot(generations, best, label='Best fitness') # primer gráfico (primera sub-figura)\n",
        "ax.set_ylabel('Fitness')\n",
        "ax.set_xlabel('Generations')\n",
        "ax.set_ylim(0, 18)\n",
        "leg = ax.legend();"
      ],
      "execution_count": 0,
      "outputs": [
        {
          "output_type": "display_data",
          "data": {
            "image/png": "[encoded data removed]",
            "text/plain": [
              "<Figure size 720x432 with 1 Axes>"
            ]
          },
          "metadata": {
            "tags": []
          }
        }
      ]
    },
    {
      "cell_type": "code",
      "metadata": {
        "id": "zRbAPzlBGC02",
        "colab_type": "code",
        "outputId": "242e0e2c-a538-4e13-ceb3-3fb9eb09d7d5",
        "colab": {
          "base_uri": "https://localhost:8080/",
          "height": 36
        }
      },
      "source": [
        "champion_connections = evolution.pop.champion_genome.export_genome()['GeneticEncoding']['connections']\n",
        "champion_nodes = evolution.pop.champion_genome.export_genome()['GeneticEncoding']['nodes']\n",
        "\n",
        "# Champion genome can be saved to champion.json by calling save_genome() method\n",
        "# Let's see how many nodes result\n",
        "print('Nodes {:d}, Connections {:d}'.format(len(champion_nodes), len(champion_connections)))"
      ],
      "execution_count": 0,
      "outputs": [
        {
          "output_type": "stream",
          "text": [
            "Nodes 13, Connections 25\n"
          ],
          "name": "stdout"
        }
      ]
    },
    {
      "cell_type": "code",
      "metadata": {
        "id": "DcoiFiCemJhu",
        "colab_type": "code",
        "colab": {}
      },
      "source": [
        "node_types = {0: 'INPUT', 1: 'HIDDEN', 2: 'OUTPUT'}\n",
        "\n",
        "def node_printer(nodes):\n",
        "    for node in nodes:\n",
        "        print('Node id {:d}, layer {:d}, type {:s}, activation {:s}'.format(node['nodeID'], \n",
        "                                                                            node['row'],\n",
        "                                                                            node_types[node['type']],\n",
        "                                                                            node['function']))\n",
        "def connection_printer(connections):\n",
        "    for connection in connections:\n",
        "        print('Connection innovation {:d}, in_id {:d}, out_id {:d}, weigh {:f}, enable {:b}'.format(connection['innovation'],\n",
        "                                                                                                    connection['in'],\n",
        "                                                                                                    connection['out'],\n",
        "                                                                                                    connection['weight'],\n",
        "                                                                                                    connection['enable']))"
      ],
      "execution_count": 0,
      "outputs": []
    },
    {
      "cell_type": "code",
      "metadata": {
        "id": "51sx7v_omMRa",
        "colab_type": "code",
        "outputId": "2462bf6c-8a00-4666-cc0c-74e21cf3ebfb",
        "colab": {
          "base_uri": "https://localhost:8080/",
          "height": 258
        }
      },
      "source": [
        "# Print champion nodes\n",
        "node_printer(champion_nodes)"
      ],
      "execution_count": 0,
      "outputs": [
        {
          "output_type": "stream",
          "text": [
            "Node id 0, layer 0, type INPUT, activation TANH\n",
            "Node id 1, layer 0, type INPUT, activation TANH\n",
            "Node id 2, layer 9, type OUTPUT, activation UNSIGNED_STEP\n",
            "Node id 4, layer 4, type HIDDEN, activation SIGNED_SIGMOID\n",
            "Node id 3, layer 4, type HIDDEN, activation UNSIGNED_STEP\n",
            "Node id 6, layer 2, type HIDDEN, activation SIGNED_GAUSS\n",
            "Node id 9, layer 6, type HIDDEN, activation SIGNED_SIGMOID\n",
            "Node id 21, layer 5, type HIDDEN, activation TANH\n",
            "Node id 31, layer 2, type HIDDEN, activation UNSIGNED_STEP\n",
            "Node id 14, layer 3, type HIDDEN, activation TANH\n",
            "Node id 11, layer 2, type HIDDEN, activation UNSIGNED_GAUSS\n",
            "Node id 24, layer 7, type HIDDEN, activation SIGNED_STEP\n",
            "Node id 36, layer 3, type HIDDEN, activation TANH\n"
          ],
          "name": "stdout"
        }
      ]
    },
    {
      "cell_type": "code",
      "metadata": {
        "id": "GgvdehO3mM2d",
        "colab_type": "code",
        "outputId": "44a8f769-49f3-4ed5-ce3f-0227342262d8",
        "colab": {
          "base_uri": "https://localhost:8080/",
          "height": 500
        }
      },
      "source": [
        "# Print champion connections\n",
        "connection_printer(champion_connections)\n",
        "print(len(champion_connections))"
      ],
      "execution_count": 0,
      "outputs": [
        {
          "output_type": "stream",
          "text": [
            "Connection innovation 0, in_id 0, out_id 2, weigh -0.865138, enable 0\n",
            "Connection innovation 1, in_id 1, out_id 2, weigh 0.652333, enable 1\n",
            "Connection innovation 4, in_id 1, out_id 4, weigh -0.607566, enable 0\n",
            "Connection innovation 5, in_id 4, out_id 2, weigh 0.973047, enable 1\n",
            "Connection innovation 2, in_id 0, out_id 3, weigh 0.101535, enable 0\n",
            "Connection innovation 3, in_id 3, out_id 2, weigh 0.885907, enable 0\n",
            "Connection innovation 12, in_id 1, out_id 6, weigh -0.766107, enable 0\n",
            "Connection innovation 13, in_id 6, out_id 4, weigh 0.245138, enable 0\n",
            "Connection innovation 18, in_id 4, out_id 9, weigh 0.141524, enable 0\n",
            "Connection innovation 19, in_id 9, out_id 2, weigh 0.224979, enable 1\n",
            "Connection innovation 7, in_id 4, out_id 2, weigh -0.947403, enable 1\n",
            "Connection innovation 52, in_id 4, out_id 21, weigh 1.000000, enable 1\n",
            "Connection innovation 53, in_id 21, out_id 9, weigh -0.018745, enable 1\n",
            "Connection innovation 8, in_id 1, out_id 4, weigh 0.656049, enable 1\n",
            "Connection innovation 84, in_id 1, out_id 31, weigh 1.000000, enable 1\n",
            "Connection innovation 85, in_id 31, out_id 4, weigh -0.081309, enable 0\n",
            "Connection innovation 6, in_id 0, out_id 3, weigh -0.575462, enable 0\n",
            "Connection innovation 34, in_id 6, out_id 14, weigh 0.628982, enable 1\n",
            "Connection innovation 35, in_id 14, out_id 4, weigh -0.300393, enable 1\n",
            "Connection innovation 25, in_id 0, out_id 11, weigh 1.000000, enable 1\n",
            "Connection innovation 26, in_id 11, out_id 3, weigh 0.834723, enable 1\n",
            "Connection innovation 60, in_id 9, out_id 24, weigh 1.000000, enable 1\n",
            "Connection innovation 61, in_id 24, out_id 2, weigh 0.313967, enable 1\n",
            "Connection innovation 101, in_id 31, out_id 36, weigh 1.000000, enable 1\n",
            "Connection innovation 102, in_id 36, out_id 4, weigh 0.951160, enable 1\n",
            "25\n"
          ],
          "name": "stdout"
        }
      ]
    },
    {
      "cell_type": "markdown",
      "metadata": {
        "id": "cI2L_KVRmva4",
        "colab_type": "text"
      },
      "source": [
        "#CPPN: Compositional Pattern Producing Network\n",
        "Mixed activation functions produce different connectivity patterns from a node to a target space. Using NEAT as learning algorithm diverse patterns can be obtained in evolution\n",
        "\n",
        "![alt text](https://i.imgur.com/bNYVnCC.png)"
      ]
    },
    {
      "cell_type": "markdown",
      "metadata": {
        "id": "poBEiIGBmQk0",
        "colab_type": "text"
      },
      "source": [
        "#HyperNEAT and ES-HyperNEAT\n",
        "Connection mapping in a 2D substrate using NEAT\n",
        "\n",
        "![alt text](https://i.imgur.com/hfKTMPx.png)\n",
        "\n",
        "2D layers can be connected between them. In a feed-forward approach connection mapping can be generated as\n",
        "![alt text](https://i.imgur.com/B13GNVt.png)\n",
        "\n",
        "ES-HyperNEAT does not declare any nodes position in the hidden layers, the algorithm search for relevant activations from an input node across the target space.\n",
        "\n",
        "![alt text](https://i.imgur.com/p62nCoY.png)"
      ]
    },
    {
      "cell_type": "markdown",
      "metadata": {
        "id": "iAXHkxXVp8zq",
        "colab_type": "text"
      },
      "source": [
        "#HyperNEAT learning gaits"
      ]
    },
    {
      "cell_type": "code",
      "metadata": {
        "id": "-o70PN4EoZmh",
        "colab_type": "code",
        "outputId": "c7e63f8c-c3f7-4cb7-bb8b-74f2aa6804b1",
        "colab": {
          "base_uri": "https://localhost:8080/",
          "height": 336
        }
      },
      "source": [
        "from IPython.display import HTML\n",
        "\n",
        "# Youtube\n",
        "HTML('<iframe width=\"560\" height=\"315\" src=\"https://www.youtube.com/embed/QyVUIM5fVLA?rel=0&amp;controls=0&amp;showinfo=0\" frameborder=\"0\" allowfullscreen></iframe>')"
      ],
      "execution_count": 0,
      "outputs": [
        {
          "output_type": "execute_result",
          "data": {
            "text/html": [
              "<iframe width=\"560\" height=\"315\" src=\"https://www.youtube.com/embed/QyVUIM5fVLA?rel=0&amp;controls=0&amp;showinfo=0\" frameborder=\"0\" allowfullscreen></iframe>"
            ],
            "text/plain": [
              "<IPython.core.display.HTML object>"
            ]
          },
          "metadata": {
            "tags": []
          },
          "execution_count": 20
        }
      ]
    },
    {
      "cell_type": "code",
      "metadata": {
        "id": "ml1nPsgjp5Sa",
        "colab_type": "code",
        "outputId": "4ff6b587-d949-4929-c8c4-d32c9fe60205",
        "colab": {
          "base_uri": "https://localhost:8080/",
          "height": 336
        }
      },
      "source": [
        "HTML('<iframe width=\"560\" height=\"315\" src=\"https://www.youtube.com/embed/uvqSYnoox4s?rel=0&amp;controls=0&amp;showinfo=0\" frameborder=\"0\" allowfullscreen></iframe>')"
      ],
      "execution_count": 0,
      "outputs": [
        {
          "output_type": "execute_result",
          "data": {
            "text/html": [
              "<iframe width=\"560\" height=\"315\" src=\"https://www.youtube.com/embed/uvqSYnoox4s?rel=0&amp;controls=0&amp;showinfo=0\" frameborder=\"0\" allowfullscreen></iframe>"
            ],
            "text/plain": [
              "<IPython.core.display.HTML object>"
            ]
          },
          "metadata": {
            "tags": []
          },
          "execution_count": 21
        }
      ]
    },
    {
      "cell_type": "markdown",
      "metadata": {
        "id": "Z58v-tY1qBT3",
        "colab_type": "text"
      },
      "source": [
        "#ES-HyperNEAT learning gaits"
      ]
    },
    {
      "cell_type": "code",
      "metadata": {
        "colab_type": "code",
        "outputId": "4875ca7d-b65f-4331-dd5b-18b49d59620c",
        "id": "dJdQI3Mgpf9E",
        "colab": {
          "base_uri": "https://localhost:8080/",
          "height": 336
        }
      },
      "source": [
        "HTML('<iframe width=\"560\" height=\"315\" src=\"https://www.youtube.com/embed/fEHyarE8SXM?rel=0&amp;controls=0&amp;showinfo=0\" frameborder=\"0\" allowfullscreen></iframe>')"
      ],
      "execution_count": 0,
      "outputs": [
        {
          "output_type": "execute_result",
          "data": {
            "text/html": [
              "<iframe width=\"560\" height=\"315\" src=\"https://www.youtube.com/embed/fEHyarE8SXM?rel=0&amp;controls=0&amp;showinfo=0\" frameborder=\"0\" allowfullscreen></iframe>"
            ],
            "text/plain": [
              "<IPython.core.display.HTML object>"
            ]
          },
          "metadata": {
            "tags": []
          },
          "execution_count": 18
        }
      ]
    },
    {
      "cell_type": "code",
      "metadata": {
        "id": "VBHavCDqqEnu",
        "colab_type": "code",
        "outputId": "5cc35282-ccdc-438b-e6a3-773aa257cf48",
        "colab": {
          "base_uri": "https://localhost:8080/",
          "height": 336
        }
      },
      "source": [
        "HTML('<iframe width=\"560\" height=\"315\" src=\"https://www.youtube.com/embed/aYHlDjhvi7A?rel=0&amp;controls=0&amp;showinfo=0\" frameborder=\"0\" allowfullscreen></iframe>')"
      ],
      "execution_count": 0,
      "outputs": [
        {
          "output_type": "execute_result",
          "data": {
            "text/html": [
              "<iframe width=\"560\" height=\"315\" src=\"https://www.youtube.com/embed/aYHlDjhvi7A?rel=0&amp;controls=0&amp;showinfo=0\" frameborder=\"0\" allowfullscreen></iframe>"
            ],
            "text/plain": [
              "<IPython.core.display.HTML object>"
            ]
          },
          "metadata": {
            "tags": []
          },
          "execution_count": 22
        }
      ]
    },
    {
      "cell_type": "markdown",
      "metadata": {
        "id": "_7X7PtMWr2zl",
        "colab_type": "text"
      },
      "source": [
        "P. Reyes and M. Escobar, \"Neuroevolutive Algorithms for Learning Gaits in Legged Robots,\" in IEEE Access, vol. 7, pp. 142406-142420, 2019."
      ]
    }
  ]
}