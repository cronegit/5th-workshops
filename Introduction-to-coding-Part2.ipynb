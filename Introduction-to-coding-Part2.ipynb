{
  "nbformat": 4,
  "nbformat_minor": 0,
  "metadata": {
    "kernelspec": {
      "display_name": "Python 2",
      "language": "python",
      "name": "python2"
    },
    "language_info": {
      "codemirror_mode": {
        "name": "ipython",
        "version": 2
      },
      "file_extension": ".py",
      "mimetype": "text/x-python",
      "name": "python",
      "nbconvert_exporter": "python",
      "pygments_lexer": "ipython2",
      "version": "2.7.13"
    },
    "colab": {
      "name": "Taller I - Bloque 1.ipynb",
      "provenance": []
    }
  },
  "cells": [
    {
      "cell_type": "code",
      "metadata": {
        "id": "dn36CagqSATG",
        "colab_type": "code",
        "colab": {}
      },
      "source": [
        "# NumPy\n",
        "# Numpy es uno de los módulos principales para computación científica en Python. Provee arreglos como\n",
        "# objetos multidimensionales y herramientas con alto desempeño para la manipulación de dichos arreglos.\n",
        "\n",
        "# Para su uso, primero importamos el módulo\n",
        "import numpy as np"
      ],
      "execution_count": 0,
      "outputs": []
    },
    {
      "cell_type": "code",
      "metadata": {
        "id": "Nk9WOWj3SATe",
        "colab_type": "code",
        "colab": {}
      },
      "source": [
        "# Arreglos\n",
        "# El rango (rank) del arreglo corresponde al número de dimensiones, la forma (shape) del arreglo es\n",
        "# una tupla de enteros que da el tamaño del arreglo para cada dimensión\n",
        "\n",
        "a = np.array([1,2,3]) # arreglo de rango 1\n",
        "print \"a es de tipo\", type(a), \"y su shape es\", a.shape\n",
        "a[0] = 5\n",
        "print a"
      ],
      "execution_count": 0,
      "outputs": []
    },
    {
      "cell_type": "code",
      "metadata": {
        "id": "0JNmLjPYSATu",
        "colab_type": "code",
        "colab": {}
      },
      "source": [
        "b = np.array([[1,2,3],[4,5,6]]) # arreglo de rango 2\n",
        "print b"
      ],
      "execution_count": 0,
      "outputs": []
    },
    {
      "cell_type": "code",
      "metadata": {
        "id": "Pdgh_57vSAT9",
        "colab_type": "code",
        "colab": {}
      },
      "source": [
        "print b.shape\n",
        "print \"las dos primeras columnas de la primera fila tienen valor\",b[0,0:2]\n",
        "print \"la primera columna de la segunda fila tiene valor\", b[1,0]"
      ],
      "execution_count": 0,
      "outputs": []
    },
    {
      "cell_type": "code",
      "metadata": {
        "id": "1ffXotSHSAUK",
        "colab_type": "code",
        "colab": {}
      },
      "source": [
        "# Funciones para crear arreglos\n",
        "# matriz con ceros\n",
        "a = np.zeros((2,2))\n",
        "print a"
      ],
      "execution_count": 0,
      "outputs": []
    },
    {
      "cell_type": "code",
      "metadata": {
        "id": "UyXPB5MfSAUX",
        "colab_type": "code",
        "colab": {}
      },
      "source": [
        "# matriz con unos\n",
        "b = np.ones((1,2))\n",
        "c = np.ones((2,2))\n",
        "print \"b es\",b\n",
        "print \"c es\",c"
      ],
      "execution_count": 0,
      "outputs": []
    },
    {
      "cell_type": "code",
      "metadata": {
        "id": "iePI7zaMSAUh",
        "colab_type": "code",
        "colab": {}
      },
      "source": [
        "# matriz con valor constante\n",
        "d = np.full((2,2), 7)\n",
        "print d"
      ],
      "execution_count": 0,
      "outputs": []
    },
    {
      "cell_type": "code",
      "metadata": {
        "id": "5WvtcODxSAUp",
        "colab_type": "code",
        "colab": {}
      },
      "source": [
        "# matriz identidad\n",
        "e = np.eye(2)\n",
        "print e"
      ],
      "execution_count": 0,
      "outputs": []
    },
    {
      "cell_type": "code",
      "metadata": {
        "id": "ZJMdpIT6SAU3",
        "colab_type": "code",
        "colab": {}
      },
      "source": [
        "# matriz con valores aleatorios\n",
        "f = np.random.random((2,2))\n",
        "print f"
      ],
      "execution_count": 0,
      "outputs": []
    },
    {
      "cell_type": "code",
      "metadata": {
        "id": "o8VXwSlcSAVc",
        "colab_type": "code",
        "colab": {}
      },
      "source": [
        "# arreglo con valores numéricos secuenciales\n",
        "g = np.arange(4)\n",
        "print g"
      ],
      "execution_count": 0,
      "outputs": []
    },
    {
      "cell_type": "code",
      "metadata": {
        "id": "pKdtnJ1WSAVp",
        "colab_type": "code",
        "colab": {}
      },
      "source": [
        "# Indización en arreglos\n",
        "a = np.array([range(1,5), range(5,9), range(9,13)])\n",
        "b = a[:2, 1:3]\n",
        "print b"
      ],
      "execution_count": 0,
      "outputs": []
    },
    {
      "cell_type": "code",
      "metadata": {
        "id": "d11s9d2uSAV5",
        "colab_type": "code",
        "colab": {}
      },
      "source": [
        "# Modificación de una sección del arreglo\n",
        "print \"la primera fila y segunda columna tiene valor\",a[0,1]\n",
        "b[0,0] = 77\n",
        "print \"ahora vale\",a[0,1]"
      ],
      "execution_count": 0,
      "outputs": []
    },
    {
      "cell_type": "code",
      "metadata": {
        "id": "umbmsUd2SAWD",
        "colab_type": "code",
        "colab": {}
      },
      "source": [
        "# Indización en arreglos\n",
        "# al indizar un arreglo usando rebanado, el arreglo resultante es siempre un sub-arreglo del original\n",
        "a = np.array([[1,2],[3,4],[5,6]])\n",
        "print a[[0,1,2], [0,1,0]] # filas 0, 1 y 2, para columnas 0, 1 y 0 respectivamente"
      ],
      "execution_count": 0,
      "outputs": []
    },
    {
      "cell_type": "code",
      "metadata": {
        "id": "HsWF4e1VSAWO",
        "colab_type": "code",
        "colab": {}
      },
      "source": [
        "# Indización en arreglos\n",
        "# el ejemplo anterior es equivalente a\n",
        "print np.array([a[0,0],a[1,1],a[2,0]])"
      ],
      "execution_count": 0,
      "outputs": []
    },
    {
      "cell_type": "code",
      "metadata": {
        "id": "fWEAjSAqSAWZ",
        "colab_type": "code",
        "colab": {}
      },
      "source": [
        "# se puede reutilizar el mismo elemento del arreglo original\n",
        "print a[[0,0],[1,1]]"
      ],
      "execution_count": 0,
      "outputs": []
    },
    {
      "cell_type": "code",
      "metadata": {
        "id": "4po7d7EJSAWh",
        "colab_type": "code",
        "colab": {}
      },
      "source": [
        "# el ejemplo anterior es equivalente a\n",
        "print np.array([a[0,1],a[0,1]])"
      ],
      "execution_count": 0,
      "outputs": []
    },
    {
      "cell_type": "code",
      "metadata": {
        "id": "3ylx87E-SAWp",
        "colab_type": "code",
        "colab": {}
      },
      "source": [
        "b = np.array([0,1,0])\n",
        "print \"a es\", a\n",
        "print \"al seleccionar los indices\",b, \"para las columnas y\", np.arange(3),\"para las filas\"\n",
        "print \"se obtienen los elementos\", a[np.arange(3), b]"
      ],
      "execution_count": 0,
      "outputs": []
    },
    {
      "cell_type": "code",
      "metadata": {
        "id": "wc8NST0ISAWz",
        "colab_type": "code",
        "colab": {}
      },
      "source": [
        "# modificar un elemento de cada fila usando los indices en b\n",
        "a[np.arange(3),b] += 10\n",
        "print \"a queda como\", a"
      ],
      "execution_count": 0,
      "outputs": []
    },
    {
      "cell_type": "code",
      "metadata": {
        "id": "LgpMgyiOSAW7",
        "colab_type": "code",
        "colab": {}
      },
      "source": [
        "# indización por valores lógicos\n",
        "a = np.array([[1,2],[3,4],[5,6]])\n",
        "identificadores = (a > 2)\n",
        "print \"los identificadores son\", identificadores"
      ],
      "execution_count": 0,
      "outputs": []
    },
    {
      "cell_type": "code",
      "metadata": {
        "id": "0ouP5YfuSAXF",
        "colab_type": "code",
        "colab": {}
      },
      "source": [
        "print \"los valores del arreglo que cumplen con dicha condición son\"\n",
        "print a[identificadores]"
      ],
      "execution_count": 0,
      "outputs": []
    },
    {
      "cell_type": "code",
      "metadata": {
        "id": "sf8ZqfaHSAXQ",
        "colab_type": "code",
        "colab": {}
      },
      "source": [
        "# lo anterior es equivalente a\n",
        "print a[a > 2]"
      ],
      "execution_count": 0,
      "outputs": []
    },
    {
      "cell_type": "code",
      "metadata": {
        "id": "e7dLM5hCSAXg",
        "colab_type": "code",
        "colab": {}
      },
      "source": [
        "# Tipos de datos en arreglos\n",
        "# Al crear un arreglo, numpy utiliza el tipo de dato que estima más conveniente, pero se puede indicar explícitamente\n",
        "x = np.array([1,2])\n",
        "y = np.array([1.0,2.0])\n",
        "z = np.array([1.0,2.0], dtype = np.int64)\n",
        "print x.dtype, y.dtype, z.dtype"
      ],
      "execution_count": 0,
      "outputs": []
    },
    {
      "cell_type": "code",
      "metadata": {
        "id": "nJTgHGNgSAXs",
        "colab_type": "code",
        "colab": {}
      },
      "source": [
        "# Operaciones sobre los arreglos\n",
        "x = np.array([[1,2],[3,4]],dtype = np.float64)\n",
        "y = np.array([[5,6],[7,8]],dtype = np.float64)\n",
        "print x + y\n",
        "print \"otra alternativa es\"\n",
        "print np.add(x,y)"
      ],
      "execution_count": 0,
      "outputs": []
    },
    {
      "cell_type": "code",
      "metadata": {
        "id": "tEcVYjaBSAXx",
        "colab_type": "code",
        "colab": {}
      },
      "source": [
        "print x - y\n",
        "print \"otra alternativa es\"\n",
        "print np.subtract(x,y)"
      ],
      "execution_count": 0,
      "outputs": []
    },
    {
      "cell_type": "code",
      "metadata": {
        "id": "VToXjp6-SAX6",
        "colab_type": "code",
        "colab": {}
      },
      "source": [
        "print x * y\n",
        "print \"otra alternativa es\"\n",
        "print np.multiply(x,y)"
      ],
      "execution_count": 0,
      "outputs": []
    },
    {
      "cell_type": "code",
      "metadata": {
        "id": "4zWUDYZ9SAX_",
        "colab_type": "code",
        "colab": {}
      },
      "source": [
        "print x / y\n",
        "print \"otra alternativa es\"\n",
        "print np.divide(x,y)"
      ],
      "execution_count": 0,
      "outputs": []
    },
    {
      "cell_type": "code",
      "metadata": {
        "id": "0zwF3D8qSAYF",
        "colab_type": "code",
        "colab": {}
      },
      "source": [
        "print np.sqrt(x)"
      ],
      "execution_count": 0,
      "outputs": []
    },
    {
      "cell_type": "code",
      "metadata": {
        "id": "95VxPfbtSAYJ",
        "colab_type": "code",
        "colab": {}
      },
      "source": [
        "# Producto interno\n",
        "x = np.array([[1,2],[3,4]])\n",
        "y = np.array([[5,6],[7,8]])\n",
        "\n",
        "v = np.array([9,10])\n",
        "w = np.array([11, 12])\n",
        "\n",
        "print v.dot(w)\n",
        "print \"otra alternativa es\"\n",
        "print np.dot(v, w)"
      ],
      "execution_count": 0,
      "outputs": []
    },
    {
      "cell_type": "code",
      "metadata": {
        "id": "4PusCxTNSAYO",
        "colab_type": "code",
        "colab": {}
      },
      "source": [
        "print x.dot(v)"
      ],
      "execution_count": 0,
      "outputs": []
    },
    {
      "cell_type": "code",
      "metadata": {
        "id": "CX5dvS7SSAYV",
        "colab_type": "code",
        "colab": {}
      },
      "source": [
        "print x.dot(y)"
      ],
      "execution_count": 0,
      "outputs": []
    },
    {
      "cell_type": "code",
      "metadata": {
        "id": "OuPVRcCuSAYa",
        "colab_type": "code",
        "colab": {}
      },
      "source": [
        "# sumar elementos de un arreglo\n",
        "x = np.array([[1,2],[3,4]])\n",
        "print np.sum(x)"
      ],
      "execution_count": 0,
      "outputs": []
    },
    {
      "cell_type": "code",
      "metadata": {
        "id": "9-Gjcda2SAYe",
        "colab_type": "code",
        "colab": {}
      },
      "source": [
        "# la suma de cada columna\n",
        "print np.sum(x, axis=0)"
      ],
      "execution_count": 0,
      "outputs": []
    },
    {
      "cell_type": "code",
      "metadata": {
        "id": "wU8GQHrqSAYl",
        "colab_type": "code",
        "colab": {}
      },
      "source": [
        "# la suma de cada fila\n",
        "print np.sum(x, axis=1)"
      ],
      "execution_count": 0,
      "outputs": []
    },
    {
      "cell_type": "code",
      "metadata": {
        "id": "iZtIa95ISAYr",
        "colab_type": "code",
        "colab": {}
      },
      "source": [
        "# matriz transpuesta\n",
        "print \"la matriz original es\"\n",
        "print x\n",
        "print \"la matriz transpuesta es\"\n",
        "print x.T"
      ],
      "execution_count": 0,
      "outputs": []
    },
    {
      "cell_type": "code",
      "metadata": {
        "id": "cHeUkom8SAYx",
        "colab_type": "code",
        "colab": {}
      },
      "source": [
        "# sumar un vector a cada fila de la matriz\n",
        "v = np.array([1,2,3])\n",
        "x = np.array([[1,2,3], [4,5,6]])\n",
        "print x + v"
      ],
      "execution_count": 0,
      "outputs": []
    },
    {
      "cell_type": "code",
      "metadata": {
        "id": "xpIbvFU1SAY2",
        "colab_type": "code",
        "colab": {}
      },
      "source": [
        "# sumar un vector a cada columna de la matriz\n",
        "w = np.array([4,5])\n",
        "x = np.array([[1,2,3], [4,5,6]])\n",
        "print (x.T + w).T"
      ],
      "execution_count": 0,
      "outputs": []
    },
    {
      "cell_type": "code",
      "metadata": {
        "id": "c6_XFEGqSAY7",
        "colab_type": "code",
        "colab": {}
      },
      "source": [
        "# multiplicar matriz por una constante\n",
        "print x*2"
      ],
      "execution_count": 0,
      "outputs": []
    },
    {
      "cell_type": "code",
      "metadata": {
        "id": "FInSWCbkSAZD",
        "colab_type": "code",
        "colab": {}
      },
      "source": [
        "# Ejercicio\n",
        "# Una matriz a es simétrica si para todo par de índices i y j se cumple que a[i,j] == a[j,i].\n",
        "# Escriba la función es_simetrica(a) que indique si la matriz a es simétrica o no.\n",
        "def es_simetrica(a):\n",
        "    simetrica = True\n",
        "    # completar\n",
        "    return simetrica\n",
        "\n",
        "a = np.array([[1,2],[2,1]])\n",
        "b = np.array([[1,2],[1,2]])\n",
        "print \"a es simetrica?\", es_simetrica(a)\n",
        "print \"b es simetrica?\", es_simetrica(b)"
      ],
      "execution_count": 0,
      "outputs": []
    },
    {
      "cell_type": "code",
      "metadata": {
        "id": "ZowOjC1mSAZH",
        "colab_type": "code",
        "colab": {}
      },
      "source": [
        "# Ejercicio (opcional)\n",
        "# Una matriz es diagonal si todos sus elementos que no están en la diagonal principal tienen valor cero.\n",
        "# Escriba la función es_diagonal(a) que indique si la matriz a es diagonal o no.\n",
        "def es_diagonal(a):\n",
        "    diagonal = True\n",
        "    # completar\n",
        "    return diagonal\n",
        "\n",
        "a = np.array([[1,0],[0,0]])\n",
        "b = np.array([[1,0],[-1,0]])\n",
        "print \"a es diagonal?\", es_diagonal(a)\n",
        "print \"b es diagonal?\", es_diagonal(b)"
      ],
      "execution_count": 0,
      "outputs": []
    },
    {
      "cell_type": "code",
      "metadata": {
        "id": "v2xJh4cPFWQJ",
        "colab_type": "code",
        "colab": {}
      },
      "source": [
        "# Matplotlib\n",
        "# Matplotlib es un módulo desarrollado para graficar\n",
        "import numpy as np\n",
        "import matplotlib.pyplot as matplot"
      ],
      "execution_count": 0,
      "outputs": []
    },
    {
      "cell_type": "code",
      "metadata": {
        "id": "UtBwAUZ4FWQ2",
        "colab_type": "code",
        "colab": {}
      },
      "source": [
        "# para mostrar las figuras en esta ventana, es necesario incluir la siguiente instrucción\n",
        "%matplotlib inline"
      ],
      "execution_count": 0,
      "outputs": []
    },
    {
      "cell_type": "code",
      "metadata": {
        "id": "FSjHluv6FWRX",
        "colab_type": "code",
        "colab": {}
      },
      "source": [
        "# Graficando funciones\n",
        "x = np.arange(0, 3 * np.pi, 0.1)\n",
        "y = np.sin(x)\n",
        "matplot.plot(x,y)"
      ],
      "execution_count": 0,
      "outputs": []
    },
    {
      "cell_type": "code",
      "metadata": {
        "id": "C665RZpGFWRo",
        "colab_type": "code",
        "colab": {}
      },
      "source": [
        "# modificando el paso de tiempo\n",
        "x = np.arange(0, 3 * np.pi, 1)\n",
        "y = np.sin(x)\n",
        "matplot.plot(x,y)"
      ],
      "execution_count": 0,
      "outputs": []
    },
    {
      "cell_type": "code",
      "metadata": {
        "id": "qlOqhXqRFWR5",
        "colab_type": "code",
        "colab": {}
      },
      "source": [
        "x = np.arange(0, 3 * np.pi, 0.1)\n",
        "y_sin = np.sin(x)\n",
        "y_cos = np.cos(x)\n",
        "matplot.plot(x, y_sin)\n",
        "matplot.plot(x, y_cos)\n",
        "matplot.xlabel('eje x')\n",
        "matplot.ylabel('eje y')\n",
        "matplot.title('seno y coseno')\n",
        "matplot.legend(['seno', 'coseno'])"
      ],
      "execution_count": 0,
      "outputs": []
    },
    {
      "cell_type": "code",
      "metadata": {
        "id": "aDFTi7YHFWSX",
        "colab_type": "code",
        "colab": {}
      },
      "source": [
        "# sub-figuras\n",
        "\n",
        "x = np.arange(0, 3 * np.pi, 0.1)\n",
        "y_sin = np.sin(x)\n",
        "y_cos = np.cos(x)\n",
        "\n",
        "matplot.subplot(2, 1, 1) # establece una grilla de altura 2 (figuras) y ancho 1 (figura), dejando activa la primera\n",
        "\n",
        "matplot.plot(x, y_sin) # primer gráfico (primera sub-figura)\n",
        "matplot.title('seno')\n",
        "\n",
        "matplot.subplot(2, 1, 2) # deja activa la segunda celda en la grilla de figuras\n",
        "matplot.plot(x, y_cos)\n",
        "matplot.title('coseno')"
      ],
      "execution_count": 0,
      "outputs": []
    }
  ]
}