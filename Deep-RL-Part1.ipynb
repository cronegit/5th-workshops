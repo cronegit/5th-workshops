{
  "nbformat": 4,
  "nbformat_minor": 0,
  "metadata": {
    "colab": {
      "name": "Untitled0.ipynb",
      "provenance": [],
      "authorship_tag": "ABX9TyNQR2ZpCNwTUtwEwvJbhx9S",
      "include_colab_link": true
    },
    "kernelspec": {
      "name": "python3",
      "display_name": "Python 3"
    }
  },
  "cells": [
    {
      "cell_type": "markdown",
      "metadata": {
        "id": "view-in-github",
        "colab_type": "text"
      },
      "source": [
        "<a href=\"https://colab.research.google.com/github/cronegit/5th-workshops/blob/master/Deep-RL-Part1.ipynb\" target=\"_parent\"><img src=\"https://colab.research.google.com/assets/colab-badge.svg\" alt=\"Open In Colab\"/></a>"
      ]
    },
    {
      "cell_type": "markdown",
      "metadata": {
        "id": "qm6lnSR28ndR",
        "colab_type": "text"
      },
      "source": [
        "**Workshop on Deep-Reinforcement Learning**\n",
        "\n",
        "Presented by Cristóbal J. Nettle\n",
        "\n",
        "5th Congress on Robotics and Neuroscience"
      ]
    },
    {
      "cell_type": "code",
      "metadata": {
        "id": "pPJxnIGq8kR2",
        "colab_type": "code",
        "colab": {}
      },
      "source": [
        ""
      ],
      "execution_count": 0,
      "outputs": []
    }
  ]
}